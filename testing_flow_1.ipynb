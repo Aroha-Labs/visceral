{
 "cells": [
  {
   "cell_type": "code",
   "execution_count": 35,
   "metadata": {},
   "outputs": [],
   "source": [
    "from typing import List"
   ]
  },
  {
   "cell_type": "code",
   "execution_count": 17,
   "metadata": {},
   "outputs": [],
   "source": [
    "import pandas as pd"
   ]
  },
  {
   "cell_type": "code",
   "execution_count": 18,
   "metadata": {},
   "outputs": [],
   "source": [
    "from flow_1 import flow_1"
   ]
  },
  {
   "cell_type": "code",
   "execution_count": 19,
   "metadata": {},
   "outputs": [],
   "source": [
    "df = pd.read_csv(\"evaluate.csv\")"
   ]
  },
  {
   "cell_type": "code",
   "execution_count": 20,
   "metadata": {},
   "outputs": [
    {
     "data": {
      "text/html": [
       "<div>\n",
       "<style scoped>\n",
       "    .dataframe tbody tr th:only-of-type {\n",
       "        vertical-align: middle;\n",
       "    }\n",
       "\n",
       "    .dataframe tbody tr th {\n",
       "        vertical-align: top;\n",
       "    }\n",
       "\n",
       "    .dataframe thead th {\n",
       "        text-align: right;\n",
       "    }\n",
       "</style>\n",
       "<table border=\"1\" class=\"dataframe\">\n",
       "  <thead>\n",
       "    <tr style=\"text-align: right;\">\n",
       "      <th></th>\n",
       "      <th>Game</th>\n",
       "      <th>Creator Name</th>\n",
       "      <th>Description</th>\n",
       "      <th>Created In</th>\n",
       "      <th>Release Date</th>\n",
       "      <th>Last Update</th>\n",
       "      <th>Age Rating</th>\n",
       "      <th>Tags</th>\n",
       "      <th>Players Now</th>\n",
       "      <th>ALL Time Peak</th>\n",
       "    </tr>\n",
       "  </thead>\n",
       "  <tbody>\n",
       "    <tr>\n",
       "      <th>0</th>\n",
       "      <td>PAL TYCOON</td>\n",
       "      <td>camrin</td>\n",
       "      <td>- Mining &amp; Harvesting - Claim Pets - Earn Keys...</td>\n",
       "      <td>UEFN</td>\n",
       "      <td>May 12, 2024</td>\n",
       "      <td>June 8, 2024</td>\n",
       "      <td>Teen / 12</td>\n",
       "      <td>tycoon, simulator, boss battle, casual,</td>\n",
       "      <td>1,879</td>\n",
       "      <td>6,621</td>\n",
       "    </tr>\n",
       "    <tr>\n",
       "      <th>1</th>\n",
       "      <td>180 LEVEL OBBY PARKOUR</td>\n",
       "      <td>s.w.a.t</td>\n",
       "      <td>180 STAGES Extra stages with Random gifts Tim...</td>\n",
       "      <td>UEFN</td>\n",
       "      <td>Mar 28, 2024</td>\n",
       "      <td>April 16, 2024</td>\n",
       "      <td>Teen / 7</td>\n",
       "      <td>race, parkour, escape, minigame,</td>\n",
       "      <td>2,239</td>\n",
       "      <td>2,301</td>\n",
       "    </tr>\n",
       "    <tr>\n",
       "      <th>2</th>\n",
       "      <td>Festival Main Stage</td>\n",
       "      <td>epic</td>\n",
       "      <td>Play in a band with friends or perform solo on...</td>\n",
       "      <td>Unknown</td>\n",
       "      <td>Sep 12, 2022</td>\n",
       "      <td>September 12, 2022</td>\n",
       "      <td>Teen / 12</td>\n",
       "      <td>music, party game,</td>\n",
       "      <td>8,684</td>\n",
       "      <td>847,466</td>\n",
       "    </tr>\n",
       "    <tr>\n",
       "      <th>3</th>\n",
       "      <td>BHE 1V1 BUILD FIGHTS</td>\n",
       "      <td>bhe</td>\n",
       "      <td>FFA Build Fights 1v1 box fights fast action bu...</td>\n",
       "      <td>UEFN</td>\n",
       "      <td>Aug 14, 2019</td>\n",
       "      <td>May 24, 2024</td>\n",
       "      <td>Teen / 12</td>\n",
       "      <td>1v1, practice, boxfight,</td>\n",
       "      <td>8,655</td>\n",
       "      <td>59,144</td>\n",
       "    </tr>\n",
       "    <tr>\n",
       "      <th>4</th>\n",
       "      <td>MURDER MYSTERY</td>\n",
       "      <td>goodgamers</td>\n",
       "      <td>Survivors: Survive the Murderer Murderer: Eli...</td>\n",
       "      <td>UEFN</td>\n",
       "      <td>Oct 20, 2023</td>\n",
       "      <td>June 9, 2024</td>\n",
       "      <td>Teen / 7</td>\n",
       "      <td>party game, role playing, survival horror,</td>\n",
       "      <td>6,680</td>\n",
       "      <td>36,210</td>\n",
       "    </tr>\n",
       "  </tbody>\n",
       "</table>\n",
       "</div>"
      ],
      "text/plain": [
       "                     Game  Creator Name  \\\n",
       "0              PAL TYCOON        camrin   \n",
       "1  180 LEVEL OBBY PARKOUR       s.w.a.t   \n",
       "2      Festival Main Stage         epic   \n",
       "3  BHE 1V1 BUILD FIGHTS             bhe   \n",
       "4           MURDER MYSTERY   goodgamers   \n",
       "\n",
       "                                         Description Created In  Release Date  \\\n",
       "0  - Mining & Harvesting - Claim Pets - Earn Keys...       UEFN  May 12, 2024   \n",
       "1   180 STAGES Extra stages with Random gifts Tim...       UEFN  Mar 28, 2024   \n",
       "2  Play in a band with friends or perform solo on...    Unknown  Sep 12, 2022   \n",
       "3  FFA Build Fights 1v1 box fights fast action bu...       UEFN  Aug 14, 2019   \n",
       "4   Survivors: Survive the Murderer Murderer: Eli...       UEFN  Oct 20, 2023   \n",
       "\n",
       "          Last Update Age Rating                                         Tags  \\\n",
       "0        June 8, 2024  Teen / 12     tycoon, simulator, boss battle, casual,    \n",
       "1      April 16, 2024   Teen / 7            race, parkour, escape, minigame,    \n",
       "2  September 12, 2022  Teen / 12                          music, party game,    \n",
       "3        May 24, 2024  Teen / 12                    1v1, practice, boxfight,    \n",
       "4        June 9, 2024   Teen / 7  party game, role playing, survival horror,    \n",
       "\n",
       "  Players Now ALL Time Peak  \n",
       "0       1,879         6,621  \n",
       "1       2,239         2,301  \n",
       "2       8,684       847,466  \n",
       "3       8,655        59,144  \n",
       "4       6,680        36,210  "
      ]
     },
     "execution_count": 20,
     "metadata": {},
     "output_type": "execute_result"
    }
   ],
   "source": [
    "df.head()"
   ]
  },
  {
   "cell_type": "code",
   "execution_count": 21,
   "metadata": {},
   "outputs": [],
   "source": [
    "game_desc = df['Description']"
   ]
  },
  {
   "cell_type": "code",
   "execution_count": 22,
   "metadata": {},
   "outputs": [
    {
     "data": {
      "text/plain": [
       "0     - Mining & Harvesting - Claim Pets - Earn Keys...\n",
       "1      180 STAGES Extra stages with Random gifts Tim...\n",
       "2     Play in a band with friends or perform solo on...\n",
       "3     FFA Build Fights 1v1 box fights fast action bu...\n",
       "4      Survivors: Survive the Murderer Murderer: Eli...\n",
       "5     Battle to hold back the monster hordes and exp...\n",
       "6     PVP/PVEQUESTSSECRETSINFINITE WEAPONSENDLESS RO...\n",
       "7     X1.5 EVENT is here!Build the best Mushroom Bas...\n",
       "8      New ALL Chapter 5 Season 2 Weapons! Most Fun ...\n",
       "9     All battle, no building!Zero Build is all the ...\n",
       "10     NEW! MYTHIC HAVOC MODE CLASSIC BOX FIGHT BOXE...\n",
       "Name: Description, dtype: object"
      ]
     },
     "execution_count": 22,
     "metadata": {},
     "output_type": "execute_result"
    }
   ],
   "source": [
    "game_desc"
   ]
  },
  {
   "cell_type": "code",
   "execution_count": 25,
   "metadata": {},
   "outputs": [],
   "source": [
    "game_titles = [flow_1(desc) for desc in game_desc]"
   ]
  },
  {
   "cell_type": "code",
   "execution_count": 26,
   "metadata": {},
   "outputs": [
    {
     "data": {
      "text/plain": [
       "[\"1. Tycoon's Harvest: Unearth, Upgrade, Dominate!\\n2. Pet Pioneers: Keys to Adventure Await!\\n3. Epic Keys: Harvest, Upgrade, Conquer!\\n4. Harvesting Heroes: Keys to Success Unleashed!\\n5. Key Quest: Unearth Pets, Dominate Challenges!\",\n",
       " '1. \"Stellar Quest Run: Rush Through 180 Stages\"\\n2. \"Gifted Race: Time Your Way through 180\"\\n3. \"HUD Havoc: Custom Leaderboard Run Ahead!\"\\n4. \"Vertigo Velocity: UEFN/Verse Edition\"\\n5. \"Chrono Challenge: Unveil 180 Stages\"',\n",
       " '1. **Jam Fest Jamarama: An Epic Musical Showcase**\\n2. **Stage Strummers Showdown: Band Battle Bonanza**\\n3. **Concert Clash Carnival: Musical Madness**\\n4. **Melody Mayhem Mania: Battle of the Bands**\\n5. **Rhythm Royale: Music Magic Madness**',\n",
       " '1. \"Vortex Showdown: FFA Build Fights - Battle it Out in Fast Action 1v1 Box Fights!\"  \\n2. \"Duel Fury: High-Intensity 1v1 Build Battles - Unleash Your Skills in UEFN Arena\"  \\n3. \"Combat Clash: Epic 1v1 Build Fights - Conquer the Arena with Swift Building Action!\"  \\n4. \"Battle Blitz: FFA Build Fight Showdown - Fast-paced Box Fights in UEFN Arena\"  \\n5. \"Arena Brawl: Intense 1v1 Box Fight Showdown - Engage in Thrilling Battle Builds!\"',\n",
       " \"In the realm of video game creation, where imagination meets code,\\nA world of epic battles and adventures unfold.\\nFrom Survivors evading, Murderers on the hunt,\\nTo Sheriffs seeking justice, in the dark they confront.\\n\\nIn this game of mystery and suspense, where roles are defined,\\nThree characters entwined, where fate is intertwined.\\nSurvivors must outwit, the Murderer's deadly spree,\\nWhile the Sheriff stands vigilant, ensuring justice is the key.\\n\\nIn a tale of survival, where darkness reigns supreme,\\nNavigate through the shadows, like a player in a dream.\\nOutsmart, outlast, in this thrilling quest,\\nAs you delve into the secrets, put your skills to the test.\\n\\nSurvive the chaos, amidst danger and dread,\\nIn this twisted narrative, where lies may spread.\\nImmerse yourself in the intrigue, the thrill, the lore,\\nFor in this Murder Mystery, the truth you'll explore.\",\n",
       " '1. Monster Horde Havoc: Citadel Crafters\\n2. Fortified Frenzy: Loot Quest Legends\\n3. Rampart Raiders: Hordes Unleashed\\n4. Loot Legends: Fort Defense Edition\\n5. Crafting Chaos: Monster Hunt Adventure',\n",
       " '1. \"Secrets of the Battle Realm: Infinite Warfare\"\\n2. \"Eternal Conquest: Unleash the Endless Arsenal\"\\n3. \"Aim Master Challenge: Battle Beyond Limits\"\\n4. \"Chronicles of the Epic Showdown: Endless Trials\"\\n5. \"Infinite Quest: Master the Battle Arena\"',\n",
       " '1. \"Mushroom Base Mayhem: Quest for Treasures\"\\n2. \"Pet Paradise: Mystery of the Mushroom Base\"\\n3. \"Trailblazing Adventures: Uncover the Secrets\"\\n4. \"Fungi Fun: Build, Collect, and Explore!\"\\n5. \"Mushroom Madness: Unveiling the Hidden World\"',\n",
       " '1. \"Super Powers Showdown: Chapter 5 Season 2\"\\n2. \"Epic Warfare: Rise to Unreal ranks\"\\n3. \"Adventures of the Super Vault: Season 2 Edition\"\\n4. \"Battle Royale Evolution: Chapter 5 Season 2 Escapade\"\\n5. \"Legendary Power Play: Season 2 Ultimate Showdown\"',\n",
       " '1. \"Overshield Standoff: War of Zero Build\"\\n2. \"Defense in the Arena: Recharge & Battle Royale\"\\n3. \"Last Shield Standing: No-Build Battle Royale Quest\"\\n4. \"Shielded Showdown: Epic Zero Build Combat\"\\n5. \"Recharged Victory: The Zero Build Battle Chronicles\"',\n",
       " '1. \"Mythic Havoc Clash: Fish Box Fight for Gold Pump Victory\"\\n2. \"Legendary Boxed Wars: Fishy Frenzy Edition\"\\n3. \"Mythic Madness: Classic Box Fight Chaos Unleashed\"\\n4. \"Fish Box Frenzy: Mythic Havoc Mode Mayhem\"\\n5. \"Golden Pump Showdown: Boxed Fish Battle Royale\"']"
      ]
     },
     "execution_count": 26,
     "metadata": {},
     "output_type": "execute_result"
    }
   ],
   "source": [
    "game_titles"
   ]
  },
  {
   "cell_type": "code",
   "execution_count": 27,
   "metadata": {},
   "outputs": [],
   "source": [
    "import pickle as pl"
   ]
  },
  {
   "cell_type": "code",
   "execution_count": 28,
   "metadata": {},
   "outputs": [],
   "source": [
    "with open(\"Titles.pkl\", \"wb\") as f:\n",
    "    pl.dump(game_titles, f)"
   ]
  },
  {
   "cell_type": "code",
   "execution_count": 44,
   "metadata": {},
   "outputs": [],
   "source": [
    "import argilla as rg\n",
    "from argilla._constants import DEFAULT_API_KEY"
   ]
  },
  {
   "cell_type": "code",
   "execution_count": 52,
   "metadata": {},
   "outputs": [
    {
     "data": {
      "text/html": [
       "<pre style=\"white-space:pre;overflow-x:auto;line-height:normal;font-family:Menlo,'DejaVu Sans Mono',consolas,'Courier New',monospace\"><span style=\"color: #7fbfbf; text-decoration-color: #7fbfbf\">[06/18/24 15:27:03] </span><span style=\"color: #000080; text-decoration-color: #000080\">INFO    </span> INFO:argilla.client.feedback.dataset.local.mixins:✓ Dataset succesfully  <span style=\"color: #7f7f7f; text-decoration-color: #7f7f7f\">mixins.py:271</span>\n",
       "<span style=\"color: #7fbfbf; text-decoration-color: #7fbfbf\">                    </span>         pushed to Argilla                                                        <span style=\"color: #7f7f7f; text-decoration-color: #7f7f7f\">             </span>\n",
       "</pre>\n"
      ],
      "text/plain": [
       "\u001b[2;36m[06/18/24 15:27:03]\u001b[0m\u001b[2;36m \u001b[0m\u001b[34mINFO    \u001b[0m INFO:argilla.client.feedback.dataset.local.mixins:✓ Dataset succesfully  \u001b[2mmixins.py\u001b[0m\u001b[2m:\u001b[0m\u001b[2m271\u001b[0m\n",
       "\u001b[2;36m                    \u001b[0m         pushed to Argilla                                                        \u001b[2m             \u001b[0m\n"
      ]
     },
     "metadata": {},
     "output_type": "display_data"
    },
    {
     "data": {
      "text/html": [
       "<pre style=\"white-space:pre;overflow-x:auto;line-height:normal;font-family:Menlo,'DejaVu Sans Mono',consolas,'Courier New',monospace\"><span style=\"color: #7fbfbf; text-decoration-color: #7fbfbf\">                    </span><span style=\"color: #000080; text-decoration-color: #000080\">INFO    </span> INFO:argilla.client.feedback.dataset.local.mixins:<span style=\"color: #800080; text-decoration-color: #800080; font-weight: bold\">RemoteFeedbackDataset</span><span style=\"font-weight: bold\">(</span> <span style=\"color: #7f7f7f; text-decoration-color: #7f7f7f\">mixins.py:272</span>\n",
       "<span style=\"color: #7fbfbf; text-decoration-color: #7fbfbf\">                    </span>            <span style=\"color: #808000; text-decoration-color: #808000\">id</span>=<span style=\"color: #ffff00; text-decoration-color: #ffff00\">bc4ed023</span><span style=\"color: #ffff00; text-decoration-color: #ffff00\">-e1ff-40bd-a063-8148c6e78a35</span>                               <span style=\"color: #7f7f7f; text-decoration-color: #7f7f7f\">             </span>\n",
       "<span style=\"color: #7fbfbf; text-decoration-color: #7fbfbf\">                    </span>            <span style=\"color: #808000; text-decoration-color: #808000\">name</span>=<span style=\"color: #800080; text-decoration-color: #800080\">testing_visceral_titles_flow</span>                                     <span style=\"color: #7f7f7f; text-decoration-color: #7f7f7f\">             </span>\n",
       "<span style=\"color: #7fbfbf; text-decoration-color: #7fbfbf\">                    </span>            <span style=\"color: #808000; text-decoration-color: #808000\">workspace</span>=<span style=\"color: #800080; text-decoration-color: #800080; font-weight: bold\">Workspace</span><span style=\"font-weight: bold\">(</span><span style=\"color: #808000; text-decoration-color: #808000\">id</span>=<span style=\"color: #ffff00; text-decoration-color: #ffff00\">f71c7c38</span><span style=\"color: #ffff00; text-decoration-color: #ffff00\">-41b5-4f0b-ac9a-254ae3a7e7e9</span>,          <span style=\"color: #7f7f7f; text-decoration-color: #7f7f7f\">             </span>\n",
       "<span style=\"color: #7fbfbf; text-decoration-color: #7fbfbf\">                    </span>         <span style=\"color: #808000; text-decoration-color: #808000\">name</span>=<span style=\"color: #800080; text-decoration-color: #800080\">argilla</span>, <span style=\"color: #808000; text-decoration-color: #808000\">inserted_at</span>=<span style=\"color: #008080; text-decoration-color: #008080; font-weight: bold\">2024</span>-<span style=\"color: #008080; text-decoration-color: #008080; font-weight: bold\">02</span>-<span style=\"color: #008080; text-decoration-color: #008080; font-weight: bold\">22</span> <span style=\"color: #00ff00; text-decoration-color: #00ff00; font-weight: bold\">17:47:17</span>.<span style=\"color: #008080; text-decoration-color: #008080; font-weight: bold\">956003</span>,                    <span style=\"color: #7f7f7f; text-decoration-color: #7f7f7f\">             </span>\n",
       "<span style=\"color: #7fbfbf; text-decoration-color: #7fbfbf\">                    </span>         <span style=\"color: #808000; text-decoration-color: #808000\">updated_at</span>=<span style=\"color: #008080; text-decoration-color: #008080; font-weight: bold\">2024</span>-<span style=\"color: #008080; text-decoration-color: #008080; font-weight: bold\">02</span>-<span style=\"color: #008080; text-decoration-color: #008080; font-weight: bold\">22</span> <span style=\"color: #00ff00; text-decoration-color: #00ff00; font-weight: bold\">17:47:17</span>.<span style=\"color: #008080; text-decoration-color: #008080; font-weight: bold\">956003</span><span style=\"font-weight: bold\">)</span>                                   <span style=\"color: #7f7f7f; text-decoration-color: #7f7f7f\">             </span>\n",
       "<span style=\"color: #7fbfbf; text-decoration-color: #7fbfbf\">                    </span>            <span style=\"color: #808000; text-decoration-color: #808000\">url</span>=<span style=\"color: #0000ff; text-decoration-color: #0000ff; text-decoration: underline\">https://argilla.lmnorg.xyz/dataset/bc4ed023-e1ff-40bd-a063-8148c6</span> <span style=\"color: #7f7f7f; text-decoration-color: #7f7f7f\">             </span>\n",
       "<span style=\"color: #7fbfbf; text-decoration-color: #7fbfbf\">                    </span>         <span style=\"color: #0000ff; text-decoration-color: #0000ff; text-decoration: underline\">e78a35/annotation-mode</span>                                                   <span style=\"color: #7f7f7f; text-decoration-color: #7f7f7f\">             </span>\n",
       "<span style=\"color: #7fbfbf; text-decoration-color: #7fbfbf\">                    </span>            <span style=\"color: #808000; text-decoration-color: #808000\">fields</span>=<span style=\"font-weight: bold\">[</span><span style=\"color: #800080; text-decoration-color: #800080; font-weight: bold\">RemoteTextField</span><span style=\"font-weight: bold\">(</span><span style=\"color: #808000; text-decoration-color: #808000\">id</span>=<span style=\"color: #800080; text-decoration-color: #800080; font-weight: bold\">UUID</span><span style=\"font-weight: bold\">(</span><span style=\"color: #008000; text-decoration-color: #008000\">'905399a9-df60-46c3-a80d-4c4e4b98d4a9</span> <span style=\"color: #7f7f7f; text-decoration-color: #7f7f7f\">             </span>\n",
       "<span style=\"color: #7fbfbf; text-decoration-color: #7fbfbf\">                    </span>         <span style=\"color: #008000; text-decoration-color: #008000\">'</span><span style=\"font-weight: bold\">)</span>, <span style=\"color: #808000; text-decoration-color: #808000\">client</span>=<span style=\"color: #800080; text-decoration-color: #800080; font-style: italic\">None</span>, <span style=\"color: #808000; text-decoration-color: #808000\">name</span>=<span style=\"color: #008000; text-decoration-color: #008000\">'game_description'</span>, <span style=\"color: #808000; text-decoration-color: #808000\">title</span>=<span style=\"color: #008000; text-decoration-color: #008000\">'Description given to </span>   <span style=\"color: #7f7f7f; text-decoration-color: #7f7f7f\">             </span>\n",
       "<span style=\"color: #7fbfbf; text-decoration-color: #7fbfbf\">                    </span>         <span style=\"color: #008000; text-decoration-color: #008000\">the AI'</span>, <span style=\"color: #808000; text-decoration-color: #808000\">required</span>=<span style=\"color: #00ff00; text-decoration-color: #00ff00; font-style: italic\">True</span>, <span style=\"color: #808000; text-decoration-color: #808000\">type</span>=<span style=\"color: #008000; text-decoration-color: #008000\">'text'</span>, <span style=\"color: #808000; text-decoration-color: #808000\">use_markdown</span>=<span style=\"color: #00ff00; text-decoration-color: #00ff00; font-style: italic\">True</span><span style=\"font-weight: bold\">)</span>,                 <span style=\"color: #7f7f7f; text-decoration-color: #7f7f7f\">             </span>\n",
       "<span style=\"color: #7fbfbf; text-decoration-color: #7fbfbf\">                    </span>         <span style=\"color: #800080; text-decoration-color: #800080; font-weight: bold\">RemoteTextField</span><span style=\"font-weight: bold\">(</span><span style=\"color: #808000; text-decoration-color: #808000\">id</span>=<span style=\"color: #800080; text-decoration-color: #800080; font-weight: bold\">UUID</span><span style=\"font-weight: bold\">(</span><span style=\"color: #008000; text-decoration-color: #008000\">'ec09f434-2085-465d-a01b-c38c7afe902a'</span><span style=\"font-weight: bold\">)</span>,         <span style=\"color: #7f7f7f; text-decoration-color: #7f7f7f\">             </span>\n",
       "<span style=\"color: #7fbfbf; text-decoration-color: #7fbfbf\">                    </span>         <span style=\"color: #808000; text-decoration-color: #808000\">client</span>=<span style=\"color: #800080; text-decoration-color: #800080; font-style: italic\">None</span>, <span style=\"color: #808000; text-decoration-color: #808000\">name</span>=<span style=\"color: #008000; text-decoration-color: #008000\">'game_title'</span>, <span style=\"color: #808000; text-decoration-color: #808000\">title</span>=<span style=\"color: #008000; text-decoration-color: #008000\">'Machine Generated Title'</span>,         <span style=\"color: #7f7f7f; text-decoration-color: #7f7f7f\">             </span>\n",
       "<span style=\"color: #7fbfbf; text-decoration-color: #7fbfbf\">                    </span>         <span style=\"color: #808000; text-decoration-color: #808000\">required</span>=<span style=\"color: #00ff00; text-decoration-color: #00ff00; font-style: italic\">True</span>, <span style=\"color: #808000; text-decoration-color: #808000\">type</span>=<span style=\"color: #008000; text-decoration-color: #008000\">'text'</span>, <span style=\"color: #808000; text-decoration-color: #808000\">use_markdown</span>=<span style=\"color: #00ff00; text-decoration-color: #00ff00; font-style: italic\">True</span><span style=\"font-weight: bold\">)]</span>                          <span style=\"color: #7f7f7f; text-decoration-color: #7f7f7f\">             </span>\n",
       "<span style=\"color: #7fbfbf; text-decoration-color: #7fbfbf\">                    </span>            <span style=\"color: #808000; text-decoration-color: #808000\">questions</span>=<span style=\"font-weight: bold\">[</span><span style=\"color: #800080; text-decoration-color: #800080; font-weight: bold\">RemoteRatingQuestion</span><span style=\"font-weight: bold\">(</span><span style=\"color: #808000; text-decoration-color: #808000\">id</span>=<span style=\"color: #800080; text-decoration-color: #800080; font-weight: bold\">UUID</span><span style=\"font-weight: bold\">(</span><span style=\"color: #008000; text-decoration-color: #008000\">'1ca043ab-8db0-4ffa-8524-a730</span> <span style=\"color: #7f7f7f; text-decoration-color: #7f7f7f\">             </span>\n",
       "<span style=\"color: #7fbfbf; text-decoration-color: #7fbfbf\">                    </span>         <span style=\"color: #008000; text-decoration-color: #008000\">81332927'</span><span style=\"font-weight: bold\">)</span>, <span style=\"color: #808000; text-decoration-color: #808000\">client</span>=<span style=\"color: #800080; text-decoration-color: #800080; font-style: italic\">None</span>, <span style=\"color: #808000; text-decoration-color: #808000\">name</span>=<span style=\"color: #008000; text-decoration-color: #008000\">'rating'</span>, <span style=\"color: #808000; text-decoration-color: #808000\">title</span>=<span style=\"color: #008000; text-decoration-color: #008000\">'Rate the quality of the </span>  <span style=\"color: #7f7f7f; text-decoration-color: #7f7f7f\">             </span>\n",
       "<span style=\"color: #7fbfbf; text-decoration-color: #7fbfbf\">                    </span>         <span style=\"color: #008000; text-decoration-color: #008000\">title:'</span>, <span style=\"color: #808000; text-decoration-color: #808000\">description</span>=<span style=\"color: #008000; text-decoration-color: #008000\">'1 = very bad - 5 = very good'</span>, <span style=\"color: #808000; text-decoration-color: #808000\">required</span>=<span style=\"color: #00ff00; text-decoration-color: #00ff00; font-style: italic\">True</span>,      <span style=\"color: #7f7f7f; text-decoration-color: #7f7f7f\">             </span>\n",
       "<span style=\"color: #7fbfbf; text-decoration-color: #7fbfbf\">                    </span>         <span style=\"color: #808000; text-decoration-color: #808000\">type</span>=<span style=\"color: #008000; text-decoration-color: #008000\">'rating'</span>, <span style=\"color: #808000; text-decoration-color: #808000\">values</span>=<span style=\"font-weight: bold\">[</span><span style=\"color: #008080; text-decoration-color: #008080; font-weight: bold\">1</span>, <span style=\"color: #008080; text-decoration-color: #008080; font-weight: bold\">2</span>, <span style=\"color: #008080; text-decoration-color: #008080; font-weight: bold\">3</span>, <span style=\"color: #008080; text-decoration-color: #008080; font-weight: bold\">4</span>, <span style=\"color: #008080; text-decoration-color: #008080; font-weight: bold\">5</span><span style=\"font-weight: bold\">])</span>,                                  <span style=\"color: #7f7f7f; text-decoration-color: #7f7f7f\">             </span>\n",
       "<span style=\"color: #7fbfbf; text-decoration-color: #7fbfbf\">                    </span>         <span style=\"color: #800080; text-decoration-color: #800080; font-weight: bold\">RemoteTextQuestion</span><span style=\"font-weight: bold\">(</span><span style=\"color: #808000; text-decoration-color: #808000\">id</span>=<span style=\"color: #800080; text-decoration-color: #800080; font-weight: bold\">UUID</span><span style=\"font-weight: bold\">(</span><span style=\"color: #008000; text-decoration-color: #008000\">'9fff51b7-8a70-402c-acf1-a80e6fcb4786'</span><span style=\"font-weight: bold\">)</span>,      <span style=\"color: #7f7f7f; text-decoration-color: #7f7f7f\">             </span>\n",
       "<span style=\"color: #7fbfbf; text-decoration-color: #7fbfbf\">                    </span>         <span style=\"color: #808000; text-decoration-color: #808000\">client</span>=<span style=\"color: #800080; text-decoration-color: #800080; font-style: italic\">None</span>, <span style=\"color: #808000; text-decoration-color: #808000\">name</span>=<span style=\"color: #008000; text-decoration-color: #008000\">'revised_title'</span>, <span style=\"color: #808000; text-decoration-color: #808000\">title</span>=<span style=\"color: #008000; text-decoration-color: #008000\">'Suggest a better title'</span>,       <span style=\"color: #7f7f7f; text-decoration-color: #7f7f7f\">             </span>\n",
       "<span style=\"color: #7fbfbf; text-decoration-color: #7fbfbf\">                    </span>         <span style=\"color: #808000; text-decoration-color: #808000\">description</span>=<span style=\"color: #800080; text-decoration-color: #800080; font-style: italic\">None</span>, <span style=\"color: #808000; text-decoration-color: #808000\">required</span>=<span style=\"color: #ff0000; text-decoration-color: #ff0000; font-style: italic\">False</span>, <span style=\"color: #808000; text-decoration-color: #808000\">type</span>=<span style=\"color: #008000; text-decoration-color: #008000\">'text'</span>, <span style=\"color: #808000; text-decoration-color: #808000\">use_markdown</span>=<span style=\"color: #00ff00; text-decoration-color: #00ff00; font-style: italic\">True</span><span style=\"font-weight: bold\">)]</span>       <span style=\"color: #7f7f7f; text-decoration-color: #7f7f7f\">             </span>\n",
       "<span style=\"color: #7fbfbf; text-decoration-color: #7fbfbf\">                    </span>            <span style=\"color: #808000; text-decoration-color: #808000\">guidelines</span>=<span style=\"color: #800080; text-decoration-color: #800080\">Some</span> of the machine generated titles based on the          <span style=\"color: #7f7f7f; text-decoration-color: #7f7f7f\">             </span>\n",
       "<span style=\"color: #7fbfbf; text-decoration-color: #7fbfbf\">                    </span>         description of some other games                                          <span style=\"color: #7f7f7f; text-decoration-color: #7f7f7f\">             </span>\n",
       "<span style=\"color: #7fbfbf; text-decoration-color: #7fbfbf\">                    </span>            <span style=\"color: #808000; text-decoration-color: #808000\">metadata_properties</span>=<span style=\"font-weight: bold\">[]</span>                                                <span style=\"color: #7f7f7f; text-decoration-color: #7f7f7f\">             </span>\n",
       "<span style=\"color: #7fbfbf; text-decoration-color: #7fbfbf\">                    </span>            <span style=\"color: #808000; text-decoration-color: #808000\">vectors_settings</span>=<span style=\"font-weight: bold\">[]</span>                                                   <span style=\"color: #7f7f7f; text-decoration-color: #7f7f7f\">             </span>\n",
       "<span style=\"color: #7fbfbf; text-decoration-color: #7fbfbf\">                    </span>         <span style=\"font-weight: bold\">)</span>                                                                        <span style=\"color: #7f7f7f; text-decoration-color: #7f7f7f\">             </span>\n",
       "</pre>\n"
      ],
      "text/plain": [
       "\u001b[2;36m                   \u001b[0m\u001b[2;36m \u001b[0m\u001b[34mINFO    \u001b[0m INFO:argilla.client.feedback.dataset.local.mixins:\u001b[1;35mRemoteFeedbackDataset\u001b[0m\u001b[1m(\u001b[0m \u001b[2mmixins.py\u001b[0m\u001b[2m:\u001b[0m\u001b[2m272\u001b[0m\n",
       "\u001b[2;36m                    \u001b[0m            \u001b[33mid\u001b[0m=\u001b[93mbc4ed023\u001b[0m\u001b[93m-e1ff-40bd-a063-8148c6e78a35\u001b[0m                               \u001b[2m             \u001b[0m\n",
       "\u001b[2;36m                    \u001b[0m            \u001b[33mname\u001b[0m=\u001b[35mtesting_visceral_titles_flow\u001b[0m                                     \u001b[2m             \u001b[0m\n",
       "\u001b[2;36m                    \u001b[0m            \u001b[33mworkspace\u001b[0m=\u001b[1;35mWorkspace\u001b[0m\u001b[1m(\u001b[0m\u001b[33mid\u001b[0m=\u001b[93mf71c7c38\u001b[0m\u001b[93m-41b5-4f0b-ac9a-254ae3a7e7e9\u001b[0m,          \u001b[2m             \u001b[0m\n",
       "\u001b[2;36m                    \u001b[0m         \u001b[33mname\u001b[0m=\u001b[35margilla\u001b[0m, \u001b[33minserted_at\u001b[0m=\u001b[1;36m2024\u001b[0m-\u001b[1;36m02\u001b[0m-\u001b[1;36m22\u001b[0m \u001b[1;92m17:47:17\u001b[0m.\u001b[1;36m956003\u001b[0m,                    \u001b[2m             \u001b[0m\n",
       "\u001b[2;36m                    \u001b[0m         \u001b[33mupdated_at\u001b[0m=\u001b[1;36m2024\u001b[0m-\u001b[1;36m02\u001b[0m-\u001b[1;36m22\u001b[0m \u001b[1;92m17:47:17\u001b[0m.\u001b[1;36m956003\u001b[0m\u001b[1m)\u001b[0m                                   \u001b[2m             \u001b[0m\n",
       "\u001b[2;36m                    \u001b[0m            \u001b[33murl\u001b[0m=\u001b[4;94mhttps\u001b[0m\u001b[4;94m://argilla.lmnorg.xyz/dataset/bc4ed023-e1ff-40bd-a063-8148c6\u001b[0m \u001b[2m             \u001b[0m\n",
       "\u001b[2;36m                    \u001b[0m         \u001b[4;94me78a35/annotation-mode\u001b[0m                                                   \u001b[2m             \u001b[0m\n",
       "\u001b[2;36m                    \u001b[0m            \u001b[33mfields\u001b[0m=\u001b[1m[\u001b[0m\u001b[1;35mRemoteTextField\u001b[0m\u001b[1m(\u001b[0m\u001b[33mid\u001b[0m=\u001b[1;35mUUID\u001b[0m\u001b[1m(\u001b[0m\u001b[32m'905399a9-df60-46c3-a80d-4c4e4b98d4a9\u001b[0m \u001b[2m             \u001b[0m\n",
       "\u001b[2;36m                    \u001b[0m         \u001b[32m'\u001b[0m\u001b[1m)\u001b[0m, \u001b[33mclient\u001b[0m=\u001b[3;35mNone\u001b[0m, \u001b[33mname\u001b[0m=\u001b[32m'game_description'\u001b[0m, \u001b[33mtitle\u001b[0m=\u001b[32m'Description given to \u001b[0m   \u001b[2m             \u001b[0m\n",
       "\u001b[2;36m                    \u001b[0m         \u001b[32mthe AI'\u001b[0m, \u001b[33mrequired\u001b[0m=\u001b[3;92mTrue\u001b[0m, \u001b[33mtype\u001b[0m=\u001b[32m'text'\u001b[0m, \u001b[33muse_markdown\u001b[0m=\u001b[3;92mTrue\u001b[0m\u001b[1m)\u001b[0m,                 \u001b[2m             \u001b[0m\n",
       "\u001b[2;36m                    \u001b[0m         \u001b[1;35mRemoteTextField\u001b[0m\u001b[1m(\u001b[0m\u001b[33mid\u001b[0m=\u001b[1;35mUUID\u001b[0m\u001b[1m(\u001b[0m\u001b[32m'ec09f434-2085-465d-a01b-c38c7afe902a'\u001b[0m\u001b[1m)\u001b[0m,         \u001b[2m             \u001b[0m\n",
       "\u001b[2;36m                    \u001b[0m         \u001b[33mclient\u001b[0m=\u001b[3;35mNone\u001b[0m, \u001b[33mname\u001b[0m=\u001b[32m'game_title'\u001b[0m, \u001b[33mtitle\u001b[0m=\u001b[32m'Machine Generated Title'\u001b[0m,         \u001b[2m             \u001b[0m\n",
       "\u001b[2;36m                    \u001b[0m         \u001b[33mrequired\u001b[0m=\u001b[3;92mTrue\u001b[0m, \u001b[33mtype\u001b[0m=\u001b[32m'text'\u001b[0m, \u001b[33muse_markdown\u001b[0m=\u001b[3;92mTrue\u001b[0m\u001b[1m)\u001b[0m\u001b[1m]\u001b[0m                          \u001b[2m             \u001b[0m\n",
       "\u001b[2;36m                    \u001b[0m            \u001b[33mquestions\u001b[0m=\u001b[1m[\u001b[0m\u001b[1;35mRemoteRatingQuestion\u001b[0m\u001b[1m(\u001b[0m\u001b[33mid\u001b[0m=\u001b[1;35mUUID\u001b[0m\u001b[1m(\u001b[0m\u001b[32m'1ca043ab-8db0-4ffa-8524-a730\u001b[0m \u001b[2m             \u001b[0m\n",
       "\u001b[2;36m                    \u001b[0m         \u001b[32m81332927'\u001b[0m\u001b[1m)\u001b[0m, \u001b[33mclient\u001b[0m=\u001b[3;35mNone\u001b[0m, \u001b[33mname\u001b[0m=\u001b[32m'rating'\u001b[0m, \u001b[33mtitle\u001b[0m=\u001b[32m'Rate the quality of the \u001b[0m  \u001b[2m             \u001b[0m\n",
       "\u001b[2;36m                    \u001b[0m         \u001b[32mtitle:'\u001b[0m, \u001b[33mdescription\u001b[0m=\u001b[32m'1 = very bad - 5 = very good'\u001b[0m, \u001b[33mrequired\u001b[0m=\u001b[3;92mTrue\u001b[0m,      \u001b[2m             \u001b[0m\n",
       "\u001b[2;36m                    \u001b[0m         \u001b[33mtype\u001b[0m=\u001b[32m'rating'\u001b[0m, \u001b[33mvalues\u001b[0m=\u001b[1m[\u001b[0m\u001b[1;36m1\u001b[0m, \u001b[1;36m2\u001b[0m, \u001b[1;36m3\u001b[0m, \u001b[1;36m4\u001b[0m, \u001b[1;36m5\u001b[0m\u001b[1m]\u001b[0m\u001b[1m)\u001b[0m,                                  \u001b[2m             \u001b[0m\n",
       "\u001b[2;36m                    \u001b[0m         \u001b[1;35mRemoteTextQuestion\u001b[0m\u001b[1m(\u001b[0m\u001b[33mid\u001b[0m=\u001b[1;35mUUID\u001b[0m\u001b[1m(\u001b[0m\u001b[32m'9fff51b7-8a70-402c-acf1-a80e6fcb4786'\u001b[0m\u001b[1m)\u001b[0m,      \u001b[2m             \u001b[0m\n",
       "\u001b[2;36m                    \u001b[0m         \u001b[33mclient\u001b[0m=\u001b[3;35mNone\u001b[0m, \u001b[33mname\u001b[0m=\u001b[32m'revised_title'\u001b[0m, \u001b[33mtitle\u001b[0m=\u001b[32m'Suggest a better title'\u001b[0m,       \u001b[2m             \u001b[0m\n",
       "\u001b[2;36m                    \u001b[0m         \u001b[33mdescription\u001b[0m=\u001b[3;35mNone\u001b[0m, \u001b[33mrequired\u001b[0m=\u001b[3;91mFalse\u001b[0m, \u001b[33mtype\u001b[0m=\u001b[32m'text'\u001b[0m, \u001b[33muse_markdown\u001b[0m=\u001b[3;92mTrue\u001b[0m\u001b[1m)\u001b[0m\u001b[1m]\u001b[0m       \u001b[2m             \u001b[0m\n",
       "\u001b[2;36m                    \u001b[0m            \u001b[33mguidelines\u001b[0m=\u001b[35mSome\u001b[0m of the machine generated titles based on the          \u001b[2m             \u001b[0m\n",
       "\u001b[2;36m                    \u001b[0m         description of some other games                                          \u001b[2m             \u001b[0m\n",
       "\u001b[2;36m                    \u001b[0m            \u001b[33mmetadata_properties\u001b[0m=\u001b[1m[\u001b[0m\u001b[1m]\u001b[0m                                                \u001b[2m             \u001b[0m\n",
       "\u001b[2;36m                    \u001b[0m            \u001b[33mvectors_settings\u001b[0m=\u001b[1m[\u001b[0m\u001b[1m]\u001b[0m                                                   \u001b[2m             \u001b[0m\n",
       "\u001b[2;36m                    \u001b[0m         \u001b[1m)\u001b[0m                                                                        \u001b[2m             \u001b[0m\n"
      ]
     },
     "metadata": {},
     "output_type": "display_data"
    },
    {
     "data": {
      "text/plain": [
       "RemoteFeedbackDataset(\n",
       "   id=bc4ed023-e1ff-40bd-a063-8148c6e78a35\n",
       "   name=testing_visceral_titles_flow\n",
       "   workspace=Workspace(id=f71c7c38-41b5-4f0b-ac9a-254ae3a7e7e9, name=argilla, inserted_at=2024-02-22 17:47:17.956003, updated_at=2024-02-22 17:47:17.956003)\n",
       "   url=https://argilla.lmnorg.xyz/dataset/bc4ed023-e1ff-40bd-a063-8148c6e78a35/annotation-mode\n",
       "   fields=[RemoteTextField(id=UUID('905399a9-df60-46c3-a80d-4c4e4b98d4a9'), client=None, name='game_description', title='Description given to the AI', required=True, type='text', use_markdown=True), RemoteTextField(id=UUID('ec09f434-2085-465d-a01b-c38c7afe902a'), client=None, name='game_title', title='Machine Generated Title', required=True, type='text', use_markdown=True)]\n",
       "   questions=[RemoteRatingQuestion(id=UUID('1ca043ab-8db0-4ffa-8524-a73081332927'), client=None, name='rating', title='Rate the quality of the title:', description='1 = very bad - 5 = very good', required=True, type='rating', values=[1, 2, 3, 4, 5]), RemoteTextQuestion(id=UUID('9fff51b7-8a70-402c-acf1-a80e6fcb4786'), client=None, name='revised_title', title='Suggest a better title', description=None, required=False, type='text', use_markdown=True)]\n",
       "   guidelines=Some of the machine generated titles based on the description of some other games\n",
       "   metadata_properties=[]\n",
       "   vectors_settings=[]\n",
       ")"
      ]
     },
     "execution_count": 52,
     "metadata": {},
     "output_type": "execute_result"
    }
   ],
   "source": [
    "dataset = rg.FeedbackDataset(\n",
    "    guidelines = \"Some of the machine generated titles based on the description of some other games\",\n",
    "    fields = [\n",
    "        rg.TextField(\n",
    "            name = \"game_description\", title = \"Description given to the AI\", use_markdown = True\n",
    "        ),\n",
    "        rg.TextField(\n",
    "            name = \"game_title\", title = \"Machine Generated Title\", use_markdown = True\n",
    "        ),\n",
    "    ],\n",
    "\n",
    "    questions = [\n",
    "        rg.RatingQuestion(\n",
    "            name=\"rating\",\n",
    "            title=\"Rate the quality of the title:\",\n",
    "            description=\"1 = very bad - 5 = very good\",\n",
    "            required=True,\n",
    "            values=[1, 2, 3, 4, 5],\n",
    "        ),\n",
    "        rg.TextQuestion(\n",
    "            name = \"revised_title\",\n",
    "            title = \"Suggest a better title\",\n",
    "            use_markdown = True,\n",
    "            required = False\n",
    "        ),\n",
    "        rg.TextQuestion(\n",
    "            name = \"user_suggestions\",\n",
    "            title = \"User feedback/suggestion\",\n",
    "            use_markdown= True\n",
    "        )\n",
    "    ],\n",
    ")\n",
    "\n",
    "dataset.push_to_argilla(name = \"testing_visceral_titles_flow\", workspace = \"argilla\")"
   ]
  },
  {
   "cell_type": "code",
   "execution_count": 56,
   "metadata": {},
   "outputs": [
    {
     "data": {
      "text/plain": [
       "'- Mining & Harvesting - Claim Pets - Earn Keys - Keys Increase Production - Keys are saved - Boss Battle Replayable Tycoon! '"
      ]
     },
     "execution_count": 56,
     "metadata": {},
     "output_type": "execute_result"
    }
   ],
   "source": [
    "game_desc[0]"
   ]
  },
  {
   "cell_type": "code",
   "execution_count": 53,
   "metadata": {},
   "outputs": [],
   "source": [
    "def populate_argilla(game_titles, game_desc):\n",
    "    api_url = \"https://argilla.lmnorg.xyz/\"\n",
    "    rg.init(api_url = api_url, api_key = DEFAULT_API_KEY)\n",
    "    print(\"Client Initiated\")\n",
    "\n",
    "    feedback_db = rg.FeedbackDataset.from_argilla(\n",
    "        name = \"testing_visceral_titles_flow\", workspace = \"argilla\"\n",
    "    )\n",
    "\n",
    "    for idx, val in enumerate(game_titles):\n",
    "        record = rg.FeedbackRecord(\n",
    "            fields = {\n",
    "                \"game_description\": game_desc[idx],\n",
    "                \"game_title\": val,\n",
    "            },\n",
    "\n",
    "            suggestions = [\n",
    "                rg.SuggestionSchema(\n",
    "                    question_name = \"revised_title\",\n",
    "                    value = val\n",
    "                ),\n",
    "                rg.SuggestionSchema(\n",
    "                    question_name=\"user_suggestions\",\n",
    "                    value = \"Provide your feedback\"\n",
    "                )\n",
    "            ],\n",
    "        )\n",
    "\n",
    "        feedback_db.add_records(record)\n",
    "        print(\"Record added successfully\")\n",
    "\n",
    "    print(\"-\"*30)\n",
    "\n",
    "    print(\"Dataset Pushed Successfully\")\n",
    "\n"
   ]
  },
  {
   "cell_type": "code",
   "execution_count": 54,
   "metadata": {},
   "outputs": [
    {
     "name": "stdout",
     "output_type": "stream",
     "text": [
      "Client Initiated\n"
     ]
    },
    {
     "data": {
      "text/html": [
       "<pre style=\"white-space:pre;overflow-x:auto;line-height:normal;font-family:Menlo,'DejaVu Sans Mono',consolas,'Courier New',monospace\"></pre>\n"
      ],
      "text/plain": []
     },
     "metadata": {},
     "output_type": "display_data"
    },
    {
     "data": {
      "text/html": [
       "<pre style=\"white-space:pre;overflow-x:auto;line-height:normal;font-family:Menlo,'DejaVu Sans Mono',consolas,'Courier New',monospace\">\n",
       "</pre>\n"
      ],
      "text/plain": [
       "\n"
      ]
     },
     "metadata": {},
     "output_type": "display_data"
    },
    {
     "name": "stdout",
     "output_type": "stream",
     "text": [
      "Record added successfully\n"
     ]
    },
    {
     "data": {
      "text/html": [
       "<pre style=\"white-space:pre;overflow-x:auto;line-height:normal;font-family:Menlo,'DejaVu Sans Mono',consolas,'Courier New',monospace\"></pre>\n"
      ],
      "text/plain": []
     },
     "metadata": {},
     "output_type": "display_data"
    },
    {
     "data": {
      "text/html": [
       "<pre style=\"white-space:pre;overflow-x:auto;line-height:normal;font-family:Menlo,'DejaVu Sans Mono',consolas,'Courier New',monospace\">\n",
       "</pre>\n"
      ],
      "text/plain": [
       "\n"
      ]
     },
     "metadata": {},
     "output_type": "display_data"
    },
    {
     "name": "stdout",
     "output_type": "stream",
     "text": [
      "Record added successfully\n"
     ]
    },
    {
     "data": {
      "text/html": [
       "<pre style=\"white-space:pre;overflow-x:auto;line-height:normal;font-family:Menlo,'DejaVu Sans Mono',consolas,'Courier New',monospace\"></pre>\n"
      ],
      "text/plain": []
     },
     "metadata": {},
     "output_type": "display_data"
    },
    {
     "data": {
      "text/html": [
       "<pre style=\"white-space:pre;overflow-x:auto;line-height:normal;font-family:Menlo,'DejaVu Sans Mono',consolas,'Courier New',monospace\">\n",
       "</pre>\n"
      ],
      "text/plain": [
       "\n"
      ]
     },
     "metadata": {},
     "output_type": "display_data"
    },
    {
     "name": "stdout",
     "output_type": "stream",
     "text": [
      "Record added successfully\n"
     ]
    },
    {
     "data": {
      "text/html": [
       "<pre style=\"white-space:pre;overflow-x:auto;line-height:normal;font-family:Menlo,'DejaVu Sans Mono',consolas,'Courier New',monospace\"></pre>\n"
      ],
      "text/plain": []
     },
     "metadata": {},
     "output_type": "display_data"
    },
    {
     "data": {
      "text/html": [
       "<pre style=\"white-space:pre;overflow-x:auto;line-height:normal;font-family:Menlo,'DejaVu Sans Mono',consolas,'Courier New',monospace\">\n",
       "</pre>\n"
      ],
      "text/plain": [
       "\n"
      ]
     },
     "metadata": {},
     "output_type": "display_data"
    },
    {
     "name": "stdout",
     "output_type": "stream",
     "text": [
      "Record added successfully\n"
     ]
    },
    {
     "data": {
      "text/html": [
       "<pre style=\"white-space:pre;overflow-x:auto;line-height:normal;font-family:Menlo,'DejaVu Sans Mono',consolas,'Courier New',monospace\"></pre>\n"
      ],
      "text/plain": []
     },
     "metadata": {},
     "output_type": "display_data"
    },
    {
     "data": {
      "text/html": [
       "<pre style=\"white-space:pre;overflow-x:auto;line-height:normal;font-family:Menlo,'DejaVu Sans Mono',consolas,'Courier New',monospace\">\n",
       "</pre>\n"
      ],
      "text/plain": [
       "\n"
      ]
     },
     "metadata": {},
     "output_type": "display_data"
    },
    {
     "name": "stdout",
     "output_type": "stream",
     "text": [
      "Record added successfully\n"
     ]
    },
    {
     "data": {
      "text/html": [
       "<pre style=\"white-space:pre;overflow-x:auto;line-height:normal;font-family:Menlo,'DejaVu Sans Mono',consolas,'Courier New',monospace\"></pre>\n"
      ],
      "text/plain": []
     },
     "metadata": {},
     "output_type": "display_data"
    },
    {
     "data": {
      "text/html": [
       "<pre style=\"white-space:pre;overflow-x:auto;line-height:normal;font-family:Menlo,'DejaVu Sans Mono',consolas,'Courier New',monospace\">\n",
       "</pre>\n"
      ],
      "text/plain": [
       "\n"
      ]
     },
     "metadata": {},
     "output_type": "display_data"
    },
    {
     "name": "stdout",
     "output_type": "stream",
     "text": [
      "Record added successfully\n"
     ]
    },
    {
     "data": {
      "text/html": [
       "<pre style=\"white-space:pre;overflow-x:auto;line-height:normal;font-family:Menlo,'DejaVu Sans Mono',consolas,'Courier New',monospace\"></pre>\n"
      ],
      "text/plain": []
     },
     "metadata": {},
     "output_type": "display_data"
    },
    {
     "data": {
      "text/html": [
       "<pre style=\"white-space:pre;overflow-x:auto;line-height:normal;font-family:Menlo,'DejaVu Sans Mono',consolas,'Courier New',monospace\">\n",
       "</pre>\n"
      ],
      "text/plain": [
       "\n"
      ]
     },
     "metadata": {},
     "output_type": "display_data"
    },
    {
     "name": "stdout",
     "output_type": "stream",
     "text": [
      "Record added successfully\n"
     ]
    },
    {
     "data": {
      "text/html": [
       "<pre style=\"white-space:pre;overflow-x:auto;line-height:normal;font-family:Menlo,'DejaVu Sans Mono',consolas,'Courier New',monospace\"></pre>\n"
      ],
      "text/plain": []
     },
     "metadata": {},
     "output_type": "display_data"
    },
    {
     "data": {
      "text/html": [
       "<pre style=\"white-space:pre;overflow-x:auto;line-height:normal;font-family:Menlo,'DejaVu Sans Mono',consolas,'Courier New',monospace\">\n",
       "</pre>\n"
      ],
      "text/plain": [
       "\n"
      ]
     },
     "metadata": {},
     "output_type": "display_data"
    },
    {
     "name": "stdout",
     "output_type": "stream",
     "text": [
      "Record added successfully\n"
     ]
    },
    {
     "data": {
      "text/html": [
       "<pre style=\"white-space:pre;overflow-x:auto;line-height:normal;font-family:Menlo,'DejaVu Sans Mono',consolas,'Courier New',monospace\"></pre>\n"
      ],
      "text/plain": []
     },
     "metadata": {},
     "output_type": "display_data"
    },
    {
     "data": {
      "text/html": [
       "<pre style=\"white-space:pre;overflow-x:auto;line-height:normal;font-family:Menlo,'DejaVu Sans Mono',consolas,'Courier New',monospace\">\n",
       "</pre>\n"
      ],
      "text/plain": [
       "\n"
      ]
     },
     "metadata": {},
     "output_type": "display_data"
    },
    {
     "name": "stdout",
     "output_type": "stream",
     "text": [
      "Record added successfully\n"
     ]
    },
    {
     "data": {
      "text/html": [
       "<pre style=\"white-space:pre;overflow-x:auto;line-height:normal;font-family:Menlo,'DejaVu Sans Mono',consolas,'Courier New',monospace\"></pre>\n"
      ],
      "text/plain": []
     },
     "metadata": {},
     "output_type": "display_data"
    },
    {
     "data": {
      "text/html": [
       "<pre style=\"white-space:pre;overflow-x:auto;line-height:normal;font-family:Menlo,'DejaVu Sans Mono',consolas,'Courier New',monospace\">\n",
       "</pre>\n"
      ],
      "text/plain": [
       "\n"
      ]
     },
     "metadata": {},
     "output_type": "display_data"
    },
    {
     "name": "stdout",
     "output_type": "stream",
     "text": [
      "Record added successfully\n"
     ]
    },
    {
     "data": {
      "text/html": [
       "<pre style=\"white-space:pre;overflow-x:auto;line-height:normal;font-family:Menlo,'DejaVu Sans Mono',consolas,'Courier New',monospace\"></pre>\n"
      ],
      "text/plain": []
     },
     "metadata": {},
     "output_type": "display_data"
    },
    {
     "data": {
      "text/html": [
       "<pre style=\"white-space:pre;overflow-x:auto;line-height:normal;font-family:Menlo,'DejaVu Sans Mono',consolas,'Courier New',monospace\">\n",
       "</pre>\n"
      ],
      "text/plain": [
       "\n"
      ]
     },
     "metadata": {},
     "output_type": "display_data"
    },
    {
     "name": "stdout",
     "output_type": "stream",
     "text": [
      "Record added successfully\n",
      "------------------------------\n",
      "Dataset Pushed Successfully\n"
     ]
    }
   ],
   "source": [
    "response = populate_argilla(game_titles, game_desc)"
   ]
  },
  {
   "cell_type": "code",
   "execution_count": null,
   "metadata": {},
   "outputs": [],
   "source": []
  }
 ],
 "metadata": {
  "kernelspec": {
   "display_name": "Python 3",
   "language": "python",
   "name": "python3"
  },
  "language_info": {
   "codemirror_mode": {
    "name": "ipython",
    "version": 3
   },
   "file_extension": ".py",
   "mimetype": "text/x-python",
   "name": "python",
   "nbconvert_exporter": "python",
   "pygments_lexer": "ipython3",
   "version": "3.11.2"
  }
 },
 "nbformat": 4,
 "nbformat_minor": 2
}
