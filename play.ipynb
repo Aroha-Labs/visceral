{
 "cells": [
  {
   "cell_type": "code",
   "execution_count": 2,
   "id": "9daa6fcf-9d8a-4751-b72e-330cb3fa0698",
   "metadata": {},
   "outputs": [],
   "source": [
    "from flow_1 import flow_1\n",
    "from flow_2 import flow_2"
   ]
  },
  {
   "cell_type": "code",
   "execution_count": 8,
   "id": "e88ac5b1-ce97-4889-9793-64fdb1b92b46",
   "metadata": {},
   "outputs": [
    {
     "name": "stdout",
     "output_type": "stream",
     "text": [
      "========= GAME DESCRIPTION =========\n",
      "\t- Mining & Harvesting - Claim Pets - Earn Keys - Keys Increase Production - Keys are saved - Boss Battle Replayable Tycoon! \n",
      "========= FLOW 1 =============\n",
      "========= FLOW 2 =============\n",
      " - Victory Point System - Find Hidden Secrets - Exploration - Crafting - NPC's\n",
      "\n",
      "Here are five potential game titles based on the provided description:\n",
      "\n",
      "1. **Diggedoin'**: A playful combination of \"digging\" and \"doing,\" suggesting a fun and engaging experience.\n",
      "2. **Keyhole\n"
     ]
    }
   ],
   "source": [
    "\n",
    "\n",
    "\n",
    "description = \"\t- Mining & Harvesting - Claim Pets - Earn Keys - Keys Increase Production - Keys are saved - Boss Battle Replayable Tycoon! \"\n",
    "print(\"========= GAME DESCRIPTION =========\")\n",
    "print(description)\n",
    "print(\"========= FLOW 1 =============\")\n",
    "# print(flow_1(description))\n",
    "print(\"========= FLOW 2 =============\")\n",
    "print(flow_2(description))\n"
   ]
  },
  {
   "cell_type": "code",
   "execution_count": null,
   "id": "d58f4768-4581-42ab-bc0a-19bb3ae16d21",
   "metadata": {},
   "outputs": [],
   "source": []
  }
 ],
 "metadata": {
  "kernelspec": {
   "display_name": "Python 3 (ipykernel)",
   "language": "python",
   "name": "python3"
  },
  "language_info": {
   "codemirror_mode": {
    "name": "ipython",
    "version": 3
   },
   "file_extension": ".py",
   "mimetype": "text/x-python",
   "name": "python",
   "nbconvert_exporter": "python",
   "pygments_lexer": "ipython3",
   "version": "3.11.8"
  }
 },
 "nbformat": 4,
 "nbformat_minor": 5
}
